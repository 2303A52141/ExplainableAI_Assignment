{
  "nbformat": 4,
  "nbformat_minor": 0,
  "metadata": {
    "colab": {
      "provenance": [],
      "authorship_tag": "ABX9TyOy7zZ2ZtKctohworGhQ+6L",
      "include_colab_link": true
    },
    "kernelspec": {
      "name": "python3",
      "display_name": "Python 3"
    },
    "language_info": {
      "name": "python"
    }
  },
  "cells": [
    {
      "cell_type": "markdown",
      "metadata": {
        "id": "view-in-github",
        "colab_type": "text"
      },
      "source": [
        "<a href=\"https://colab.research.google.com/github/2303A52141/ExplainableAI_Assignment/blob/main/ExplainableAI.ipynb\" target=\"_parent\"><img src=\"https://colab.research.google.com/assets/colab-badge.svg\" alt=\"Open In Colab\"/></a>"
      ]
    },
    {
      "cell_type": "markdown",
      "source": [
        "# Question - 1"
      ],
      "metadata": {
        "id": "k7CkxveVGlMz"
      }
    },
    {
      "cell_type": "code",
      "source": [
        "import pandas as pd\n",
        "import numpy as np\n",
        "from sklearn.linear_model import LinearRegression\n",
        "\n",
        "data = pd.DataFrame({\n",
        "    \"Webinars_Attended\": [0, 1, 2, 0, 1],\n",
        "    \"Sign_ups\": [5, 15, 25, 8, 18]\n",
        "})\n",
        "\n",
        "X = data[[\"Webinars_Attended\"]]\n",
        "y = data[\"Sign_ups\"]\n",
        "\n",
        "model = LinearRegression()\n",
        "model.fit(X, y)\n",
        "\n",
        "slope = model.coef_[0]\n",
        "intercept = model.intercept_\n",
        "\n",
        "baseline = y.mean()\n",
        "\n",
        "data[\"Predicted\"] = model.predict(X)\n",
        "\n",
        "data[\"SHAP_Value\"] = data[\"Predicted\"] - baseline\n",
        "\n",
        "data[\"Baseline+SHAP\"] = baseline + data[\"SHAP_Value\"]\n",
        "\n",
        "data[\"Prediction_Comparison\"] = np.where(data[\"Predicted\"] > y, \"Over Prediction\",\n",
        "                                         np.where(data[\"Predicted\"] < y, \"Under Prediction\", \"Exact\"))\n",
        "\n",
        "print(\"Linear Regression Coefficients:\")\n",
        "print(f\"Intercept: {intercept}\")\n",
        "print(f\"Slope: {slope}\")\n",
        "print(\"\\nBaseline:\", baseline)\n",
        "print(\"\\nTable of SHAP values and predictions:\")\n",
        "print(data)"
      ],
      "metadata": {
        "id": "cPCAUkqUGn-t",
        "colab": {
          "base_uri": "https://localhost:8080/"
        },
        "outputId": "1e49ff08-0efe-4dfe-9b1a-0f6507ab66e3"
      },
      "execution_count": 1,
      "outputs": [
        {
          "output_type": "stream",
          "name": "stdout",
          "text": [
            "Linear Regression Coefficients:\n",
            "Intercept: 6.714285714285715\n",
            "Slope: 9.357142857142854\n",
            "\n",
            "Baseline: 14.2\n",
            "\n",
            "Table of SHAP values and predictions:\n",
            "   Webinars_Attended  Sign_ups  Predicted  SHAP_Value  Baseline+SHAP  \\\n",
            "0                  0         5   6.714286   -7.485714       6.714286   \n",
            "1                  1        15  16.071429    1.871429      16.071429   \n",
            "2                  2        25  25.428571   11.228571      25.428571   \n",
            "3                  0         8   6.714286   -7.485714       6.714286   \n",
            "4                  1        18  16.071429    1.871429      16.071429   \n",
            "\n",
            "  Prediction_Comparison  \n",
            "0       Over Prediction  \n",
            "1       Over Prediction  \n",
            "2       Over Prediction  \n",
            "3      Under Prediction  \n",
            "4      Under Prediction  \n"
          ]
        }
      ]
    },
    {
      "cell_type": "markdown",
      "source": [
        "# Question - 2"
      ],
      "metadata": {
        "id": "y9xO0diAHAcq"
      }
    },
    {
      "cell_type": "code",
      "source": [
        "import pandas as pd\n",
        "import numpy as np\n",
        "from sklearn.linear_model import LinearRegression\n",
        "\n",
        "data = pd.DataFrame({\n",
        "    \"Webinars\": [3, 2, 1, 4, 2],\n",
        "    \"Blogs\": [5, 3, 4, 2, 1],\n",
        "    \"Signups\": [60, 45, 40, 55, 35]\n",
        "})\n",
        "\n",
        "X = data[[\"Webinars\", \"Blogs\"]]\n",
        "y = data[\"Signups\"]\n",
        "\n",
        "model = LinearRegression()\n",
        "model.fit(X, y)\n",
        "\n",
        "intercept = model.intercept_\n",
        "coef_webinars = model.coef_[0]\n",
        "coef_blogs = model.coef_[1]\n",
        "\n",
        "baseline = y.mean()\n",
        "\n",
        "data[\"Predicted\"] = model.predict(X)\n",
        "\n",
        "data[\"SHAP_Webinars\"] = coef_webinars * (data[\"Webinars\"] - X[\"Webinars\"].mean())\n",
        "data[\"SHAP_Blogs\"] = coef_blogs * (data[\"Blogs\"] - X[\"Blogs\"].mean())\n",
        "\n",
        "data[\"Baseline+SHAP\"] = baseline + data[\"SHAP_Webinars\"] + data[\"SHAP_Blogs\"]\n",
        "\n",
        "data[\"Prediction_Comparison\"] = np.where(data[\"Predicted\"] > y, \"Over Prediction\",\n",
        "                                         np.where(data[\"Predicted\"] < y, \"Under Prediction\", \"Exact\"))\n",
        "\n",
        "print(\"Intercept:\", intercept)\n",
        "print(\"Coefficient for Webinars:\", coef_webinars)\n",
        "print(\"Coefficient for Blogs:\", coef_blogs)\n",
        "print(\"Baseline:\", baseline)\n",
        "print(data)"
      ],
      "metadata": {
        "colab": {
          "base_uri": "https://localhost:8080/"
        },
        "id": "BsG2NJIaHF-h",
        "outputId": "e229a295-d9ed-4407-96e5-851253adb0d0"
      },
      "execution_count": 2,
      "outputs": [
        {
          "output_type": "stream",
          "name": "stdout",
          "text": [
            "Intercept: 15.58823529411766\n",
            "Coefficient for Webinars: 7.745098039215684\n",
            "Coefficient for Blogs: 4.274509803921567\n",
            "Baseline: 47.0\n",
            "   Webinars  Blogs  Signups  Predicted  SHAP_Webinars  SHAP_Blogs  \\\n",
            "0         3      5       60  60.196078       4.647059     8.54902   \n",
            "1         2      3       45  43.901961      -3.098039     0.00000   \n",
            "2         1      4       40  40.431373     -10.843137     4.27451   \n",
            "3         4      2       55  55.117647      12.392157    -4.27451   \n",
            "4         2      1       35  35.352941      -3.098039    -8.54902   \n",
            "\n",
            "   Baseline+SHAP Prediction_Comparison  \n",
            "0      60.196078       Over Prediction  \n",
            "1      43.901961      Under Prediction  \n",
            "2      40.431373       Over Prediction  \n",
            "3      55.117647       Over Prediction  \n",
            "4      35.352941       Over Prediction  \n"
          ]
        }
      ]
    },
    {
      "cell_type": "markdown",
      "source": [
        "# Question - 3"
      ],
      "metadata": {
        "id": "ChDWH-T9HPuE"
      }
    },
    {
      "cell_type": "code",
      "source": [
        "import pandas as pd\n",
        "import numpy as np\n",
        "from sklearn.datasets import load_diabetes\n",
        "from sklearn.linear_model import LinearRegression\n",
        "from sklearn.model_selection import train_test_split\n",
        "\n",
        "data = load_diabetes()\n",
        "X = pd.DataFrame(data.data, columns=data.feature_names)\n",
        "y = pd.Series(data.target, name=\"Disease_Progression\")\n",
        "\n",
        "X_train, X_test, y_train, y_test = train_test_split(X, y, test_size=0.2, random_state=42)\n",
        "\n",
        "model = LinearRegression()\n",
        "model.fit(X_train, y_train)\n",
        "\n",
        "baseline = y_train.mean()\n",
        "\n",
        "y_pred = model.predict(X_test)\n",
        "\n",
        "coef = model.coef_\n",
        "feature_means = X_train.mean()\n",
        "\n",
        "shap_values = pd.DataFrame((X_test - feature_means) * coef, columns=X_test.columns)\n",
        "\n",
        "shap_values[\"Baseline\"] = baseline\n",
        "shap_values[\"Prediction_from_SHAP\"] = shap_values.sum(axis=1)\n",
        "shap_values[\"Predicted\"] = y_pred\n",
        "shap_values[\"Actual\"] = y_test.values\n",
        "\n",
        "shap_values[\"Prediction_Comparison\"] = np.where(y_pred > y_test, \"Over Prediction\",\n",
        "                                               np.where(y_pred < y_test, \"Under Prediction\", \"Exact\"))\n",
        "\n",
        "print(\"Intercept:\", model.intercept_)\n",
        "print(\"Coefficients:\", dict(zip(X.columns, coef)))\n",
        "print(\"Baseline:\", baseline)\n",
        "print(shap_values)"
      ],
      "metadata": {
        "id": "rqEo_AQDHU8s"
      },
      "execution_count": null,
      "outputs": []
    },
    {
      "cell_type": "markdown",
      "source": [
        "# Question - 4"
      ],
      "metadata": {
        "id": "GcSP_5oEHbGp"
      }
    },
    {
      "cell_type": "code",
      "source": [
        "import pandas as pd\n",
        "import numpy as np\n",
        "from sklearn.linear_model import LinearRegression\n",
        "from sklearn.model_selection import train_test_split\n",
        "import shap\n",
        "\n",
        "data = pd.DataFrame({\n",
        "    \"studytime\": [1, 4, 2, 3, 5, 3, 2, 4, 1, 5],\n",
        "    \"failures\": [2, 0, 1, 1, 0, 2, 3, 0, 1, 0],\n",
        "    \"health\": [3, 4, 5, 2, 4, 3, 2, 5, 4, 3],\n",
        "    \"absences\": [5, 2, 8, 6, 1, 4, 10, 3, 7, 2],\n",
        "    \"G3\": [11, 17, 13, 14, 19, 15, 9, 18, 12, 20]\n",
        "})\n",
        "\n",
        "features = data.drop(columns=[\"G3\"])\n",
        "target = data[\"G3\"]\n",
        "\n",
        "X_train, X_test, y_train, y_test = train_test_split(features, target, test_size=0.3, random_state=42)\n",
        "\n",
        "model = LinearRegression()\n",
        "model.fit(X_train, y_train)\n",
        "\n",
        "baseline = y_train.mean()\n",
        "\n",
        "y_pred = model.predict(X_test)\n",
        "\n",
        "explainer = shap.Explainer(model, X_train)\n",
        "shap_values = explainer(X_test)\n",
        "\n",
        "shap_df = pd.DataFrame(shap_values.values, columns=X_test.columns)\n",
        "shap_df[\"Baseline\"] = baseline\n",
        "shap_df[\"Prediction_from_SHAP\"] = shap_df.sum(axis=1) + baseline\n",
        "shap_df[\"Predicted\"] = y_pred\n",
        "shap_df[\"Actual\"] = y_test.values\n",
        "shap_df[\"Prediction_Comparison\"] = np.where(y_pred > y_test, \"Over Prediction\",\n",
        "                                            np.where(y_pred < y_test, \"Under Prediction\", \"Exact\"))\n",
        "\n",
        "print(\"Intercept:\", model.intercept_)\n",
        "print(\"Coefficients:\", dict(zip(X_train.columns, model.coef_)))\n",
        "print(\"Baseline:\", baseline)\n",
        "print(shap_df)\n"
      ],
      "metadata": {
        "colab": {
          "base_uri": "https://localhost:8080/"
        },
        "id": "CvzjsUeCHfgJ",
        "outputId": "a1e46ee2-8524-41c9-a2f3-dfe6116044f4"
      },
      "execution_count": 3,
      "outputs": [
        {
          "output_type": "stream",
          "name": "stdout",
          "text": [
            "Intercept: 14.35393818544367\n",
            "Coefficients: {'studytime': np.float64(1.0687936191425722), 'failures': np.float64(-1.6769690927218353), 'health': np.float64(0.026919242273180405), 'absences': np.float64(-0.2542372881355932)}\n",
            "Baseline: 14.857142857142858\n",
            "   studytime  failures    health  absences   Baseline  Prediction_from_SHAP  \\\n",
            "0  -2.290272 -0.000000  0.015382 -0.508475  14.857143             26.930922   \n",
            "1   0.916109  1.676969  0.015382  0.762712  14.857143             33.085458   \n",
            "2  -0.152685 -1.676969 -0.011537  0.254237  14.857143             28.127332   \n",
            "\n",
            "   Predicted  Actual Prediction_Comparison  \n",
            "0  12.073779      12       Over Prediction  \n",
            "1  18.228315      17       Over Prediction  \n",
            "2  13.270189      15      Under Prediction  \n"
          ]
        }
      ]
    }
  ]
}